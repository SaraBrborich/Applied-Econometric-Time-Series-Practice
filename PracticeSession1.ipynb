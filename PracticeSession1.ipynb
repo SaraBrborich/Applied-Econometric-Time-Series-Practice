{
 "cells": [
  {
   "cell_type": "markdown",
   "metadata": {
    "vscode": {
     "languageId": "r"
    }
   },
   "source": [
    "# Sesión Práctica 1\n",
    "\n",
    "En esta sesión exploraremos:\n",
    "- Configuración del entorno (limpieza, instalación de paquetes, carga de datos).\n",
    "- Exploración y edición de datos (`stargazer`, `tidyverse`, filtrado y manipulación).\n",
    "- Generación de series de tiempo con bucles.\n",
    "- Simulación de series de tiempo y análisis de convergencia."
   ]
  },
  {
   "cell_type": "markdown",
   "metadata": {
    "vscode": {
     "languageId": "r"
    }
   },
   "source": [
    "## 1. Configuración y Manipulación de Datos\n",
    "Uno de los paquetes más usados para manipular datos es **tidyverse**. Para instalarlo y cargarlo en R, usamos:"
   ]
  },
  {
   "cell_type": "code",
   "execution_count": 1,
   "metadata": {
    "vscode": {
     "languageId": "r"
    }
   },
   "outputs": [
    {
     "name": "stderr",
     "output_type": "stream",
     "text": [
      "Loading required package: tidyverse\n",
      "\n",
      "── \u001b[1mAttaching core tidyverse packages\u001b[22m ──────────────────────── tidyverse 2.0.0 ──\n",
      "\u001b[32m✔\u001b[39m \u001b[34mdplyr    \u001b[39m 1.1.4     \u001b[32m✔\u001b[39m \u001b[34mreadr    \u001b[39m 2.1.5\n",
      "\u001b[32m✔\u001b[39m \u001b[34mforcats  \u001b[39m 1.0.0     \u001b[32m✔\u001b[39m \u001b[34mstringr  \u001b[39m 1.5.1\n",
      "\u001b[32m✔\u001b[39m \u001b[34mggplot2  \u001b[39m 3.5.1     \u001b[32m✔\u001b[39m \u001b[34mtibble   \u001b[39m 3.2.1\n",
      "\u001b[32m✔\u001b[39m \u001b[34mlubridate\u001b[39m 1.9.4     \u001b[32m✔\u001b[39m \u001b[34mtidyr    \u001b[39m 1.3.1\n",
      "\u001b[32m✔\u001b[39m \u001b[34mpurrr    \u001b[39m 1.0.2     \n",
      "── \u001b[1mConflicts\u001b[22m ────────────────────────────────────────── tidyverse_conflicts() ──\n",
      "\u001b[31m✖\u001b[39m \u001b[34mdplyr\u001b[39m::\u001b[32mfilter()\u001b[39m masks \u001b[34mstats\u001b[39m::filter()\n",
      "\u001b[31m✖\u001b[39m \u001b[34mdplyr\u001b[39m::\u001b[32mlag()\u001b[39m    masks \u001b[34mstats\u001b[39m::lag()\n",
      "\u001b[36mℹ\u001b[39m Use the conflicted package (\u001b[3m\u001b[34m<http://conflicted.r-lib.org/>\u001b[39m\u001b[23m) to force all conflicts to become errors\n",
      "Loading required package: stargazer\n",
      "\n",
      "\n",
      "Please cite as: \n",
      "\n",
      "\n",
      " Hlavac, Marek (2022). stargazer: Well-Formatted Regression and Summary Statistics Tables.\n",
      "\n",
      " R package version 5.2.3. https://CRAN.R-project.org/package=stargazer \n",
      "\n",
      "\n",
      "Loading required package: magrittr\n",
      "\n",
      "\n",
      "Attaching package: 'magrittr'\n",
      "\n",
      "\n",
      "The following object is masked from 'package:purrr':\n",
      "\n",
      "    set_names\n",
      "\n",
      "\n",
      "The following object is masked from 'package:tidyr':\n",
      "\n",
      "    extract\n",
      "\n",
      "\n",
      "Loading required package: moments\n",
      "\n"
     ]
    }
   ],
   "source": [
    "# Instalar y cargar tidyverse\n",
    "PackageNames <- c(\"tidyverse\", \"stargazer\", \"magrittr\", \"moments\")\n",
    "for (i in PackageNames) {\n",
    "    if (!require(i, character.only = T)) {\n",
    "        install.packages(i, dependencies = T)\n",
    "        require(i, character.only = T)\n",
    "    }\n",
    "}"
   ]
  },
  {
   "cell_type": "markdown",
   "metadata": {},
   "source": [
    "### Cargar y visualizar datos\n",
    "Ejemplo con la base de datos integrada `mtcars`:"
   ]
  },
  {
   "cell_type": "code",
   "execution_count": 2,
   "metadata": {
    "vscode": {
     "languageId": "r"
    }
   },
   "outputs": [
    {
     "data": {
      "text/html": [
       "<table class=\"dataframe\">\n",
       "<caption>A data.frame: 6 × 11</caption>\n",
       "<thead>\n",
       "\t<tr><th></th><th scope=col>mpg</th><th scope=col>cyl</th><th scope=col>disp</th><th scope=col>hp</th><th scope=col>drat</th><th scope=col>wt</th><th scope=col>qsec</th><th scope=col>vs</th><th scope=col>am</th><th scope=col>gear</th><th scope=col>carb</th></tr>\n",
       "\t<tr><th></th><th scope=col>&lt;dbl&gt;</th><th scope=col>&lt;dbl&gt;</th><th scope=col>&lt;dbl&gt;</th><th scope=col>&lt;dbl&gt;</th><th scope=col>&lt;dbl&gt;</th><th scope=col>&lt;dbl&gt;</th><th scope=col>&lt;dbl&gt;</th><th scope=col>&lt;dbl&gt;</th><th scope=col>&lt;dbl&gt;</th><th scope=col>&lt;dbl&gt;</th><th scope=col>&lt;dbl&gt;</th></tr>\n",
       "</thead>\n",
       "<tbody>\n",
       "\t<tr><th scope=row>Mazda RX4</th><td>21.0</td><td>6</td><td>160</td><td>110</td><td>3.90</td><td>2.620</td><td>16.46</td><td>0</td><td>1</td><td>4</td><td>4</td></tr>\n",
       "\t<tr><th scope=row>Mazda RX4 Wag</th><td>21.0</td><td>6</td><td>160</td><td>110</td><td>3.90</td><td>2.875</td><td>17.02</td><td>0</td><td>1</td><td>4</td><td>4</td></tr>\n",
       "\t<tr><th scope=row>Datsun 710</th><td>22.8</td><td>4</td><td>108</td><td> 93</td><td>3.85</td><td>2.320</td><td>18.61</td><td>1</td><td>1</td><td>4</td><td>1</td></tr>\n",
       "\t<tr><th scope=row>Hornet 4 Drive</th><td>21.4</td><td>6</td><td>258</td><td>110</td><td>3.08</td><td>3.215</td><td>19.44</td><td>1</td><td>0</td><td>3</td><td>1</td></tr>\n",
       "\t<tr><th scope=row>Hornet Sportabout</th><td>18.7</td><td>8</td><td>360</td><td>175</td><td>3.15</td><td>3.440</td><td>17.02</td><td>0</td><td>0</td><td>3</td><td>2</td></tr>\n",
       "\t<tr><th scope=row>Valiant</th><td>18.1</td><td>6</td><td>225</td><td>105</td><td>2.76</td><td>3.460</td><td>20.22</td><td>1</td><td>0</td><td>3</td><td>1</td></tr>\n",
       "</tbody>\n",
       "</table>\n"
      ],
      "text/latex": [
       "A data.frame: 6 × 11\n",
       "\\begin{tabular}{r|lllllllllll}\n",
       "  & mpg & cyl & disp & hp & drat & wt & qsec & vs & am & gear & carb\\\\\n",
       "  & <dbl> & <dbl> & <dbl> & <dbl> & <dbl> & <dbl> & <dbl> & <dbl> & <dbl> & <dbl> & <dbl>\\\\\n",
       "\\hline\n",
       "\tMazda RX4 & 21.0 & 6 & 160 & 110 & 3.90 & 2.620 & 16.46 & 0 & 1 & 4 & 4\\\\\n",
       "\tMazda RX4 Wag & 21.0 & 6 & 160 & 110 & 3.90 & 2.875 & 17.02 & 0 & 1 & 4 & 4\\\\\n",
       "\tDatsun 710 & 22.8 & 4 & 108 &  93 & 3.85 & 2.320 & 18.61 & 1 & 1 & 4 & 1\\\\\n",
       "\tHornet 4 Drive & 21.4 & 6 & 258 & 110 & 3.08 & 3.215 & 19.44 & 1 & 0 & 3 & 1\\\\\n",
       "\tHornet Sportabout & 18.7 & 8 & 360 & 175 & 3.15 & 3.440 & 17.02 & 0 & 0 & 3 & 2\\\\\n",
       "\tValiant & 18.1 & 6 & 225 & 105 & 2.76 & 3.460 & 20.22 & 1 & 0 & 3 & 1\\\\\n",
       "\\end{tabular}\n"
      ],
      "text/markdown": [
       "\n",
       "A data.frame: 6 × 11\n",
       "\n",
       "| <!--/--> | mpg &lt;dbl&gt; | cyl &lt;dbl&gt; | disp &lt;dbl&gt; | hp &lt;dbl&gt; | drat &lt;dbl&gt; | wt &lt;dbl&gt; | qsec &lt;dbl&gt; | vs &lt;dbl&gt; | am &lt;dbl&gt; | gear &lt;dbl&gt; | carb &lt;dbl&gt; |\n",
       "|---|---|---|---|---|---|---|---|---|---|---|---|\n",
       "| Mazda RX4 | 21.0 | 6 | 160 | 110 | 3.90 | 2.620 | 16.46 | 0 | 1 | 4 | 4 |\n",
       "| Mazda RX4 Wag | 21.0 | 6 | 160 | 110 | 3.90 | 2.875 | 17.02 | 0 | 1 | 4 | 4 |\n",
       "| Datsun 710 | 22.8 | 4 | 108 |  93 | 3.85 | 2.320 | 18.61 | 1 | 1 | 4 | 1 |\n",
       "| Hornet 4 Drive | 21.4 | 6 | 258 | 110 | 3.08 | 3.215 | 19.44 | 1 | 0 | 3 | 1 |\n",
       "| Hornet Sportabout | 18.7 | 8 | 360 | 175 | 3.15 | 3.440 | 17.02 | 0 | 0 | 3 | 2 |\n",
       "| Valiant | 18.1 | 6 | 225 | 105 | 2.76 | 3.460 | 20.22 | 1 | 0 | 3 | 1 |\n",
       "\n"
      ],
      "text/plain": [
       "                  mpg  cyl disp hp  drat wt    qsec  vs am gear carb\n",
       "Mazda RX4         21.0 6   160  110 3.90 2.620 16.46 0  1  4    4   \n",
       "Mazda RX4 Wag     21.0 6   160  110 3.90 2.875 17.02 0  1  4    4   \n",
       "Datsun 710        22.8 4   108   93 3.85 2.320 18.61 1  1  4    1   \n",
       "Hornet 4 Drive    21.4 6   258  110 3.08 3.215 19.44 1  0  3    1   \n",
       "Hornet Sportabout 18.7 8   360  175 3.15 3.440 17.02 0  0  3    2   \n",
       "Valiant           18.1 6   225  105 2.76 3.460 20.22 1  0  3    1   "
      ]
     },
     "metadata": {},
     "output_type": "display_data"
    }
   ],
   "source": [
    "# Primeras filas del dataset\n",
    "head(mtcars) "
   ]
  },
  {
   "cell_type": "code",
   "execution_count": 3,
   "metadata": {
    "vscode": {
     "languageId": "r"
    }
   },
   "outputs": [
    {
     "name": "stdout",
     "output_type": "stream",
     "text": [
      "\n",
      "============================================\n",
      "Statistic N   Mean   St. Dev.  Min     Max  \n",
      "--------------------------------------------\n",
      "mpg       32 20.091   6.027   10.400 33.900 \n",
      "cyl       32  6.188   1.786     4       8   \n",
      "disp      32 230.722 123.939  71.100 472.000\n",
      "hp        32 146.688  68.563    52     335  \n",
      "drat      32  3.597   0.535   2.760   4.930 \n",
      "wt        32  3.217   0.978   1.513   5.424 \n",
      "qsec      32 17.849   1.787   14.500 22.900 \n",
      "vs        32  0.438   0.504     0       1   \n",
      "am        32  0.406   0.499     0       1   \n",
      "gear      32  3.688   0.738     3       5   \n",
      "carb      32  2.812   1.615     1       8   \n",
      "--------------------------------------------\n"
     ]
    }
   ],
   "source": [
    "# Estadísticas descriptivas de todas las variables\n",
    "stargazer(mtcars, type = \"text\") "
   ]
  },
  {
   "cell_type": "code",
   "execution_count": 4,
   "metadata": {
    "vscode": {
     "languageId": "r"
    }
   },
   "outputs": [
    {
     "name": "stdout",
     "output_type": "stream",
     "text": [
      "\n",
      "===========================================\n",
      "Statistic N   Mean   St. Dev.  Min    Max  \n",
      "-------------------------------------------\n",
      "mpg       32 20.091   6.027   10.400 33.900\n",
      "hp        32 146.688  68.563    52    335  \n",
      "-------------------------------------------\n"
     ]
    }
   ],
   "source": [
    "# Estadísticas descriptivas de las variables mpg y hp\t\n",
    "stargazer(mtcars[, c(\"mpg\", \"hp\")], type = \"text\")"
   ]
  },
  {
   "cell_type": "code",
   "execution_count": 5,
   "metadata": {
    "vscode": {
     "languageId": "r"
    }
   },
   "outputs": [],
   "source": [
    "# Cambiar el nombre de variables\n",
    "mtcars <- rename(\n",
    "    mtcars,\n",
    "    mil_per_gal = mpg,\n",
    "    horse_pow = hp # primero se pone el nombre nuevo y luego el antiguo\n",
    ")"
   ]
  },
  {
   "cell_type": "code",
   "execution_count": 6,
   "metadata": {
    "vscode": {
     "languageId": "r"
    }
   },
   "outputs": [
    {
     "name": "stdout",
     "output_type": "stream",
     "text": [
      "\n",
      "=============================================\n",
      "Statistic   N   Mean   St. Dev.  Min    Max  \n",
      "---------------------------------------------\n",
      "mil_per_gal 32 20.091   6.027   10.400 33.900\n",
      "horse_pow   32 146.688  68.563    52    335  \n",
      "---------------------------------------------\n"
     ]
    }
   ],
   "source": [
    "# Estadísticas descriptivas de las variables mpg y hp con nombres cambiados\n",
    "stargazer(select(\n",
    "    mtcars,\n",
    "    mil_per_gal, horse_pow\n",
    "), type = \"text\")"
   ]
  },
  {
   "cell_type": "markdown",
   "metadata": {},
   "source": [
    "## 2. Series de Tiempo\n",
    "\n",
    "### 2.1 Crear manualmente una serie de tiempo\n",
    "Podemos crear una serie de tiempo con la función `ts()`:"
   ]
  },
  {
   "cell_type": "code",
   "execution_count": 7,
   "metadata": {
    "vscode": {
     "languageId": "r"
    }
   },
   "outputs": [
    {
     "data": {
      "image/png": "[encoded data removed]",
      "text/plain": [
       "Plot with title \"Ejemplo de Serie de Tiempo\""
      ]
     },
     "metadata": {
      "image/png": {
       "height": 420,
       "width": 420
      }
     },
     "output_type": "display_data"
    }
   ],
   "source": [
    "# Crear una serie de tiempo simple\n",
    "datos <- c(100, 105, 110, 120, 130, 125, 140)\n",
    "serie <- ts(datos, start = c(2020, 1), frequency = 12) # Datos mensuales\n",
    "plot(serie, main = \"Ejemplo de Serie de Tiempo\", col = \"blue\")"
   ]
  },
  {
   "cell_type": "markdown",
   "metadata": {},
   "source": [
    "### 2.2 Cargar una serie de tiempo Real\n",
    "Podemos cargar una serie de tiempo económica desde R:"
   ]
  },
  {
   "cell_type": "code",
   "execution_count": 8,
   "metadata": {
    "vscode": {
     "languageId": "r"
    }
   },
   "outputs": [
    {
     "data": {
      "image/png": "[encoded data removed]",
      "text/plain": [
       "Plot with title \"Número de Pasajeros Aéreos\""
      ]
     },
     "metadata": {
      "image/png": {
       "height": 420,
       "width": 420
      }
     },
     "output_type": "display_data"
    }
   ],
   "source": [
    "# Cargar datos de series de tiempo de AirPassengers\n",
    "data(AirPassengers)\n",
    "plot(AirPassengers, main = \"Número de Pasajeros Aéreos\", col = \"red\")"
   ]
  },
  {
   "cell_type": "markdown",
   "metadata": {},
   "source": [
    "### 2.2.1 Descomposición de la serie de tiempo\n",
    "Podemos descomponer una serie de tiempo en tendencia, estacionalidad y componente irregular:"
   ]
  },
  {
   "cell_type": "code",
   "execution_count": 9,
   "metadata": {
    "vscode": {
     "languageId": "r"
    }
   },
   "outputs": [
    {
     "data": {
      "image/png": "[encoded data removed]",
      "text/plain": [
       "plot without title"
      ]
     },
     "metadata": {
      "image/png": {
       "height": 420,
       "width": 420
      }
     },
     "output_type": "display_data"
    }
   ],
   "source": [
    "# Descomposición de la serie AirPassengers\n",
    "descomposicion <- decompose(AirPassengers)\n",
    "plot(descomposicion)"
   ]
  },
  {
   "cell_type": "markdown",
   "metadata": {},
   "source": [
    "### 2.3 Generación de series de tiempo con bucles\n",
    "Consideremos el siguiente proceso autoregresivo (Ecuación en diferencia de 1er orden): \n",
    "$$ y_t = a_0 + a_1 y_{t-1} + \\varepsilon_t \\tag{1}$$\n",
    "\n",
    "Sabemos que la solución está dada por:\n",
    "$$ y_t = a_0 \\sum_{i=0}^{t-1} a_1^i + a_1^t y_0 + \\sum_{i=0}^{t-1} a_1^i \\varepsilon_{t-i} $$\n",
    "\n",
    "Donde:\n",
    "- $a_0$ es el intercepto\n",
    "- $a_1$ es el coeficiente de persistencia.\n",
    "- $\\varepsilon_t \\sim N(0, \\sigma^2) $ es el término de error."
   ]
  },
  {
   "cell_type": "markdown",
   "metadata": {},
   "source": [
    "Simulemos una serie de tiempo AR(1)*, es decir, la ecuación (1):"
   ]
  },
  {
   "cell_type": "code",
   "execution_count": 10,
   "metadata": {
    "vscode": {
     "languageId": "r"
    }
   },
   "outputs": [
    {
     "data": {
      "image/png": "[encoded data removed]",
      "text/plain": [
       "Plot with title \"y[t] == a[0] + a[1] * y[t - 1] + epsilon[t]\""
      ]
     },
     "metadata": {
      "image/png": {
       "height": 420,
       "width": 420
      }
     },
     "output_type": "display_data"
    }
   ],
   "source": [
    "set.seed(123) # Para reproducibilidad\n",
    "n <- 100 # Número de observaciones\n",
    "a0 <- 1 # Intercepto\n",
    "a1 <- 0.8 # Persistencia\n",
    "\n",
    "y <- numeric(n)\n",
    "epsilon <- rnorm(n, mean = 0, sd = 1) # Errores aleatorios con distribución normal\n",
    "\n",
    "# Inicializamos la serie\n",
    "y[1] <- epsilon[1]\n",
    "\n",
    "# Generamos la serie con un loop\n",
    "for (t in 2:n) {\n",
    "    y[t] <- a0 + a1 * y[t - 1] + epsilon[t]\n",
    "}\n",
    "\n",
    "# Graficamos la serie generada\n",
    "plot(y,\n",
    "    type = \"l\",\n",
    "    main = expression(y[t] == a[0] + a[1] * y[t - 1] + epsilon[t]), \n",
    "    col = \"blue\",\n",
    "    xlab = \"Tiempo\",\n",
    "    ylab = \"y\"\n",
    ")"
   ]
  },
  {
   "cell_type": "markdown",
   "metadata": {},
   "source": [
    "### 2.3.1 Modificación de parámetros en la simulación\n",
    "Podemos cambiar el valor de $a_1 $ para ver cómo afecta la convergencia de la serie.\n",
    "\n",
    "- Si $ |a_1| < 1 $, la serie es **estacionaria** y converge a la media.\n",
    "- Si $ |a_1| > 1 $, la serie es **explosiva**.\n",
    "- Si $ a_1 = 1 $, la serie es un **random walk**."
   ]
  },
  {
   "cell_type": "markdown",
   "metadata": {},
   "source": [
    "#### Panel (a): $y_t = 0.9 y_{t-1} + \\varepsilon_t$\n",
    "\n",
    "Si $a_0 = 0$ y $a_1 = 0.9$ en la ecuación (1)\n"
   ]
  },
  {
   "cell_type": "code",
   "execution_count": null,
   "metadata": {
    "vscode": {
     "languageId": "r"
    }
   },
   "outputs": [
    {
     "data": {
      "image/png": "[encoded data removed]",
      "text/plain": [
       "Plot with title \"y[t] == 0.9 * y[t - 1] + epsilon[t]\""
      ]
     },
     "metadata": {
      "image/png": {
       "height": 420,
       "width": 420
      }
     },
     "output_type": "display_data"
    }
   ],
   "source": [
    "# Simulación de un proceso AR(1) con y_0 = 1\n",
    "set.seed(123) # Para reproducibilidad\n",
    "n <- 30 # Número de observaciones\n",
    "a1 <- 0.9 # Parámetro autoregresivo\n",
    "y <- numeric(n)\n",
    "y2 <- numeric(n)\n",
    "epsilon <- rnorm(n, mean = 0, sd = 0.1) # Errores aleatorios con media 0\n",
    "epsilon2 <- rnorm(n, mean = 0, sd = 0) \n",
    "\n",
    "# Inicializamos las series con y_0 = 1\n",
    "y[1] <- 1\n",
    "y2[1] <- 1\n",
    "\n",
    "# Generamos la secuencia de y_t\n",
    "for (t in 2:n) {\n",
    "    y[t] <- a1 * y[t - 1] + epsilon[t]\n",
    "    y2[t] <- a1 * y2[t - 1] + epsilon2[t]\n",
    "}\n",
    "\n",
    "# Graficamos ambas series\n",
    "plot(1:n, y,\n",
    "    type = \"l\", lwd = 2, col = \"blue\",\n",
    "    main = expression(y[t] == 0.9 * y[t - 1] + epsilon[t]),\n",
    "    xlab = \"Tiempo\", ylab = \"yt\",\n",
    "    ylim = c(-0.4, 1)\n",
    ") \n",
    "\n",
    "# Segunda serie en línea roja discontinua\n",
    "lines(1:n, y2, col = \"red\", lwd = 2, lty = 1) \n",
    "\n",
    "# Agregar puntos a cada serie\n",
    "points(1:n, y, pch = 19, col = \"blue\")\n",
    "points(1:n, y2, pch = 19, col = \"red\")\n",
    "\n",
    "# Línea de referencia en 0\n",
    "abline(h = 0, col = \"black\", lty = 1)\n",
    "\n",
    "# Agregar leyenda para diferenciar las series\n",
    "legend(\"topright\",\n",
    "    legend = c(\"epsilon = 0.1\", \"epsilon = 0\"),\n",
    "    col = c(\"blue\", \"red\"), lwd = 2, lty = c(1, 2)\n",
    ")\n"
   ]
  },
  {
   "cell_type": "markdown",
   "metadata": {},
   "source": [
    "### Panel (b): $y_t = 0.5 y_{t-1} + \\varepsilon_t$\n",
    "\n",
    "Si $a_0 = 0$ y $a_1 = 0.5$ en la ecuación (1)"
   ]
  },
  {
   "cell_type": "code",
   "execution_count": null,
   "metadata": {
    "vscode": {
     "languageId": "r"
    }
   },
   "outputs": [
    {
     "data": {
      "image/png": "[encoded data removed]",
      "text/plain": [
       "Plot with title \"y[t] == 0.5 * y[t - 1] + epsilon[t]\""
      ]
     },
     "metadata": {
      "image/png": {
       "height": 420,
       "width": 420
      }
     },
     "output_type": "display_data"
    }
   ],
   "source": [
    "# Simulación de un proceso AR(1) con y_0 = 1\n",
    "set.seed(123) # Para reproducibilidad\n",
    "n <- 30 # Número de observaciones\n",
    "a1 <- 0.5 # Parámetro autoregresivo\n",
    "y <- numeric(n)\n",
    "y2 <- numeric(n)\n",
    "\n",
    "# Errores aleatorios distribuidos normalmente \n",
    "epsilon <- rnorm(n, mean = 0, sd = 0.1) \n",
    "epsilon2 <- rnorm(n, mean = 0, sd = 0)\n",
    "\n",
    "# Inicializamos las series con y_0 = 1\n",
    "y[1] <- 1\n",
    "y2[1] <- 1\n",
    "\n",
    "# Generamos la secuencia de y_t\n",
    "for (t in 2:n) {\n",
    "    y[t] <- a1 * y[t - 1] + epsilon[t]\n",
    "    y2[t] <- a1 * y2[t - 1] + epsilon2[t]\n",
    "}\n",
    "\n",
    "# Graficamos ambas series\n",
    "plot(1:n, y,\n",
    "    type = \"l\", lwd = 2, col = \"blue\",\n",
    "    main = expression(y[t] == 0.5 * y[t - 1] + epsilon[t]),\n",
    "    xlab = \"Tiempo\", ylab = \"yt\",\n",
    "    ylim = c(-0.4, 1)\n",
    ") \n",
    "\n",
    "# Segunda serie en línea roja\n",
    "lines(1:n, y2, col = \"red\", lwd = 2, lty = 1)\n",
    "\n",
    "# Agregar puntos a cada serie\n",
    "points(1:n, y, pch = 19, col = \"blue\")\n",
    "points(1:n, y2, pch = 19, col = \"red\")\n",
    "\n",
    "# Línea de referencia en 0\n",
    "abline(h = 0, col = \"black\", lty = 1)\n",
    "\n",
    "# Agregar leyenda para diferenciar las series\n",
    "legend(\"topright\",\n",
    "    legend = c(\"epsilon = 0.1\", \"epsilon = 0\"),\n",
    "    col = c(\"blue\", \"red\"), lwd = 2, lty = c(1, 2)\n",
    ")\n"
   ]
  },
  {
   "cell_type": "markdown",
   "metadata": {},
   "source": [
    "Ambos gráficos juntos:\n",
    "\n",
    "$y_t = 0.9 y_{t-1} + \\varepsilon_t$ \n",
    "\n",
    "$y_t = 0.5 y_{t-1} + \\varepsilon_t$"
   ]
  },
  {
   "cell_type": "code",
   "execution_count": 17,
   "metadata": {
    "vscode": {
     "languageId": "r"
    }
   },
   "outputs": [
    {
     "data": {
      "image/png": "[encoded data removed]",
      "text/plain": [
       "Plot with title \"==\"\n",
       "Plot with title \"y[t]\"\n",
       "Plot with title \"0.5 * y[t - 1] + epsilon[t]\""
      ]
     },
     "metadata": {
      "image/png": {
       "height": 480,
       "width": 960
      }
     },
     "output_type": "display_data"
    }
   ],
   "source": [
    "# Comparación de series con diferentes valores de a1\n",
    "a1_values <- c(0.9, 0.5)\n",
    "series_list <- list()\n",
    "series_list2 <- list() \n",
    "\n",
    "for (a in a1_values) {\n",
    "    y <- numeric(n)\n",
    "    y2 <- numeric(n)\n",
    "\n",
    "    y[1] <- 1\n",
    "    y2[1] <- 1\n",
    "\n",
    "    for (t in 2:n) {\n",
    "        y[t] <- a * y[t - 1] + epsilon[t]\n",
    "        y2[t] <- a * y2[t - 1] + epsilon2[t]\n",
    "    }\n",
    "    series_list[[as.character(a)]] <- y\n",
    "    series_list2[[as.character(a)]] <- y2 \n",
    "}\n",
    "\n",
    "# Ajustar tamaño del gráfico \n",
    "options(repr.plot.width = 16, repr.plot.height = 8)\n",
    "\n",
    "# Configurar gráficos en 1 fila y 2 columnas\n",
    "par(mfrow = c(1, 2))\n",
    "\n",
    "for (a in a1_values) {\n",
    "    # Crear título\n",
    "    titulo <- substitute(y[t] == a * y[t - 1] + epsilon[t], list(a = a))\n",
    "\n",
    "    # Graficar serie 1\n",
    "    plot(1:n, series_list[[as.character(a)]],\n",
    "        type = \"l\",\n",
    "        main = titulo, \n",
    "        col = \"blue\",\n",
    "        lwd = 2,\n",
    "        xlab = \"Tiempo\",\n",
    "        ylab = \"y_t\",\n",
    "        ylim = c(-0.4, 1)\n",
    "    ) \n",
    "\n",
    "    # Graficar serie 2\n",
    "    lines(1:n, series_list2[[as.character(a)]], col = \"red\", lwd = 2, lty = 1)\n",
    "    \n",
    "    # Agregar puntos a cada serie\n",
    "    points(1:n, series_list[[as.character(a)]], pch = 19, col = \"blue\")\n",
    "    points(1:n, series_list2[[as.character(a)]], pch = 19, col = \"red\")\n",
    "\n",
    "    # Línea horizontal en y = 0\n",
    "    abline(h = 0, col = \"gray\", lty = 1, lwd = 2)\n",
    "\n",
    "    # Agregar leyenda\n",
    "    legend(\"topright\",\n",
    "        legend = c(\"epsilon = 0.1\", \"epsilon = 0\"),\n",
    "        col = c(\"blue\", \"red\"), lwd = 2, lty = c(1, 1)\n",
    "    )\n",
    "}\n",
    "\n"
   ]
  },
  {
   "cell_type": "markdown",
   "metadata": {},
   "source": [
    "### Panel (c): $y_t = -0.5 y_{t-1} + \\varepsilon_t$\n",
    "\n",
    "Si $a_0 = 0$ y $a_1 = -0.5$ en la ecuación (1)"
   ]
  },
  {
   "cell_type": "code",
   "execution_count": null,
   "metadata": {
    "vscode": {
     "languageId": "r"
    }
   },
   "outputs": [
    {
     "data": {
      "image/png": "[encoded data removed]",
      "text/plain": [
       "Plot with title \"y[t] == -0.5 * y[t - 1] + epsilon[t]\""
      ]
     },
     "metadata": {
      "image/png": {
       "height": 360,
       "width": 420
      }
     },
     "output_type": "display_data"
    }
   ],
   "source": [
    "# Simulación de un proceso AR(1) con y_0 = 1\n",
    "set.seed(123) # Para reproducibilidad\n",
    "n <- 30 # Número de observaciones\n",
    "a1 <- -0.5 # Parámetro autoregresivo\n",
    "y <- numeric(n)\n",
    "y2 <- numeric(n)\n",
    "epsilon <- rnorm(n, mean = 0, sd = 0.1) # Errores aleatorios con media 0\n",
    "epsilon2 <- rnorm(n, mean = 0, sd = 0)\n",
    "\n",
    "# Inicializamos las series con y_0 = 1\n",
    "y[1] <- 1\n",
    "y2[1] <- 1\n",
    "\n",
    "# Generamos la secuencia de y_t\n",
    "for (t in 2:n) {\n",
    "    y[t] <- a1 * y[t - 1] + epsilon[t]\n",
    "    y2[t] <- a1 * y2[t - 1] + epsilon2[t]\n",
    "}\n",
    "\n",
    "# Ajustar tamaño del gráfico\n",
    "options(repr.plot.width = 7, repr.plot.height = 6)\n",
    "\n",
    "# Graficamos ambas series\n",
    "plot(1:n, y,\n",
    "    type = \"l\", lwd = 2, col = \"blue\",\n",
    "    main = expression(y[t] == -0.5 * y[t - 1] + epsilon[t]),\n",
    "    xlab = \"Tiempo\", ylab = \"yt\",\n",
    "    ylim = c(-0.75, 1)\n",
    ") \n",
    "\n",
    "# Segunda serie en línea roja discontinua\n",
    "lines(1:n, y2, col = \"red\", lwd = 2, lty = 1)\n",
    "\n",
    "# Agregar puntos a cada serie\n",
    "points(1:n, y, pch = 19, col = \"blue\")\n",
    "points(1:n, y2, pch = 19, col = \"red\")\n",
    "\n",
    "# Línea de referencia en 0\n",
    "abline(h = 0, col = \"black\", lty = 1)\n",
    "\n",
    "# Agregar leyenda para diferenciar las series\n",
    "legend(\"topright\",\n",
    "    legend = c(\"epsilon = 0.1\", \"epsilon = 0\"),\n",
    "    col = c(\"blue\", \"red\"), lwd = 2, lty = c(1, 2)\n",
    ")\n"
   ]
  },
  {
   "cell_type": "markdown",
   "metadata": {},
   "source": [
    "### Panel (d): $y_t = y_{t-1} + \\varepsilon_t$\n",
    "\n",
    "Si $a_0 = 0$ y $a_1 = 1$ en la ecuación (1)"
   ]
  },
  {
   "cell_type": "code",
   "execution_count": null,
   "metadata": {
    "vscode": {
     "languageId": "r"
    }
   },
   "outputs": [
    {
     "data": {
      "image/png": "[encoded data removed]",
      "text/plain": [
       "Plot with title \"y[t] == y[t - 1] + epsilon[t]\""
      ]
     },
     "metadata": {
      "image/png": {
       "height": 360,
       "width": 420
      }
     },
     "output_type": "display_data"
    }
   ],
   "source": [
    "# Simulación de un proceso AR(1) con y_0 = 1\n",
    "set.seed(123) # Para reproducibilidad\n",
    "n <- 30 # Número de observaciones\n",
    "a1 <- 1 # Parámetro autoregresivo\n",
    "y <- numeric(n)\n",
    "y2 <- numeric(n)\n",
    "epsilon <- rnorm(n, mean = 0, sd = 0.1) # Errores aleatorios con media 0\n",
    "epsilon2 <- rnorm(n, mean = 0, sd = 0)\n",
    "\n",
    "# Inicializamos las series con y_0 = 1\n",
    "y[1] <- 1\n",
    "y2[1] <- 1\n",
    "\n",
    "# Generamos la secuencia de y_t\n",
    "for (t in 2:n) {\n",
    "    y[t] <- a1 * y[t - 1] + epsilon[t]\n",
    "    y2[t] <- a1 * y2[t - 1] + epsilon2[t]\n",
    "}\n",
    "\n",
    "# Ajustar tamaño del gráfico\n",
    "options(repr.plot.width = 7, repr.plot.height = 6)\n",
    "\n",
    "# Graficamos ambas series\n",
    "plot(1:n, y,\n",
    "    type = \"l\", lwd = 2, col = \"blue\",\n",
    "    main = expression(y[t] == y[t - 1] + epsilon[t]),\n",
    "    xlab = \"Tiempo\", ylab = \"yt\"\n",
    ")\n",
    "\n",
    "# Agregar puntos a cada serie\n",
    "points(1:n, y, pch = 19, col = \"blue\")\n",
    "\n",
    "# Línea de referencia en 0\n",
    "abline(h = 0, col = \"black\", lty = 1)\n",
    "\n",
    "# Agregar label\n",
    "legend(\"topright\",\n",
    "    legend = c(\"epsilon = 0.1\", \"epsilon = 0\"),\n",
    "    col = c(\"blue\", \"red\"), lwd = 2, lty = c(1, 2)\n",
    ")\n"
   ]
  },
  {
   "cell_type": "markdown",
   "metadata": {},
   "source": [
    "### Panel (e): $y_t = 1.2 y_{t-1} + \\varepsilon_t$\n",
    "\n",
    "Si $a_0 = 0$ y $a_1 = 1.2 $ en la ecuación (1)\n",
    "\n",
    "### Panel (f): $y_t = -1.2 y_{t-1} + \\varepsilon_t$\n",
    "\n",
    "Si $a_0 = 0$ y $a_1 = -1.2 $ en la ecuación (1)"
   ]
  },
  {
   "cell_type": "code",
   "execution_count": 33,
   "metadata": {
    "vscode": {
     "languageId": "r"
    }
   },
   "outputs": [
    {
     "data": {
      "image/png": "[encoded data removed]",
      "text/plain": [
       "Plot with title \"==\"\n",
       "Plot with title \"y[t]\"\n",
       "Plot with title \"-1.2 * y[t - 1] + epsilon[t]\""
      ]
     },
     "metadata": {
      "image/png": {
       "height": 480,
       "width": 960
      }
     },
     "output_type": "display_data"
    }
   ],
   "source": [
    "# Comparación de series con diferentes valores de a1\n",
    "a1_values <- c(1.2, -1.2)\n",
    "series_list <- list()\n",
    "series_list2 <- list()\n",
    "\n",
    "for (a in a1_values) {\n",
    "    y <- numeric(n)\n",
    "    y2 <- numeric(n)\n",
    "\n",
    "    y[1] <- 1\n",
    "    y2[1] <- 1\n",
    "\n",
    "    for (t in 2:n) {\n",
    "        y[t] <- a * y[t - 1] + epsilon[t]\n",
    "        y2[t] <- a * y2[t - 1] + epsilon2[t]\n",
    "    }\n",
    "    series_list[[as.character(a)]] <- y\n",
    "    series_list2[[as.character(a)]] <- y2\n",
    "}\n",
    "\n",
    "# Ajustar tamaño del gráfico\n",
    "options(repr.plot.width = 16, repr.plot.height = 8)\n",
    "\n",
    "# Configurar gráficos en 1 fila y 2 columnas\n",
    "par(mfrow = c(1, 2))\n",
    "\n",
    "for (a in a1_values) {\n",
    "    # Crear título\n",
    "    titulo <- substitute(y[t] == a * y[t - 1] + epsilon[t], list(a = a))\n",
    "\n",
    "    # Graficar serie 1\n",
    "    plot(1:n, series_list[[as.character(a)]],\n",
    "        type = \"l\",\n",
    "        main = titulo,\n",
    "        col = \"blue\",\n",
    "        lwd = 2,\n",
    "        xlab = \"Tiempo\",\n",
    "        ylab = \"y_t\"\n",
    "    )\n",
    "\n",
    "    # Graficar serie 2\n",
    "    lines(1:n, series_list2[[as.character(a)]], col = \"red\", lwd = 2, lty = 1)\n",
    "\n",
    "    # Agregar puntos a cada serie\n",
    "    points(1:n, series_list[[as.character(a)]], pch = 19, col = \"blue\")\n",
    "    points(1:n, series_list2[[as.character(a)]], pch = 19, col = \"red\")\n",
    "\n",
    "    # Línea horizontal en y = 0\n",
    "    abline(h = 0, col = \"gray\", lty = 1, lwd = 2)\n",
    "\n",
    "    # Agregar leyenda\n",
    "    legend(\"topright\",\n",
    "        legend = c(\"epsilon = 0.1\", \"epsilon = 0\"),\n",
    "        col = c(\"blue\", \"red\"), lwd = 2, lty = c(1, 1)\n",
    "    )\n",
    "}\n"
   ]
  }
 ],
 "metadata": {
  "kernelspec": {
   "display_name": "R",
   "language": "R",
   "name": "ir"
  },
  "language_info": {
   "codemirror_mode": "r",
   "file_extension": ".r",
   "mimetype": "text/x-r-source",
   "name": "R",
   "pygments_lexer": "r",
   "version": "4.4.2"
  }
 },
 "nbformat": 4,
 "nbformat_minor": 2
}
